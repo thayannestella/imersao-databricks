{
 "cells": [
  {
   "cell_type": "code",
   "execution_count": 0,
   "metadata": {
    "application/vnd.databricks.v1+cell": {
     "cellMetadata": {
      "byteLimit": 2048000,
      "implicitDf": true,
      "rowLimit": 10000
     },
     "inputWidgets": {},
     "nuid": "51abaf47-bff6-49bc-be47-f63d40ccd997",
     "showTitle": false,
     "tableResultSettingsMap": {},
     "title": ""
    }
   },
   "outputs": [],
   "source": [
    "%sql\n",
    "CREATE CATALOG IF NOT EXISTS lakehouse\n",
    "COMMENT \"Catálogo principal do projeto, com camadas de dados governadas via Unity Catalog\";\n",
    "\n",
    "-- 2 Cria as quatro camadas da arquitetura de dados\n",
    "CREATE SCHEMA IF NOT EXISTS lakehouse.raw_public\n",
    "COMMENT \"Camada RAW - dados brutos, como chegam das fontes (SQL, API, planilhas)\";\n",
    "CREATE VOLUME IF NOT EXISTS lakehouse.raw_public.coinbase;\n",
    "CREATE VOLUME IF NOT EXISTS lakehouse.raw_public.yfinance;\n",
    "\n",
    "CREATE SCHEMA IF NOT EXISTS lakehouse.bronze\n",
    "COMMENT \"Camada BRONZE - dados padronizados, com metadados e controle de ingestão\";\n",
    "\n",
    "CREATE SCHEMA IF NOT EXISTS lakehouse.silver\n",
    "COMMENT \"Camada SILVER - dados tratados, com regras de negócio aplicadas\";\n",
    "\n",
    "CREATE SCHEMA IF NOT EXISTS lakehouse.gold\n",
    "COMMENT \"Camada GOLD - dados analíticos e métricas finais para BI e IA\";\n",
    "\n",
    "-- 3 (opcional) Verifica se tudo foi criado corretamente\n",
    "SHOW SCHEMAS IN lakehouse;"
   ]
  }
 ],
 "metadata": {
  "application/vnd.databricks.v1+notebook": {
   "computePreferences": null,
   "dashboards": [],
   "environmentMetadata": {
    "base_environment": "",
    "environment_version": "4"
   },
   "inputWidgetPreferences": null,
   "language": "python",
   "notebookMetadata": {
    "mostRecentlyExecutedCommandWithImplicitDF": {
     "commandId": 8123747799199003,
     "dataframes": [
      "_sqldf"
     ]
    },
    "pythonIndentUnit": 4
   },
   "notebookName": "setup",
   "widgets": {}
  },
  "language_info": {
   "name": "python"
  }
 },
 "nbformat": 4,
 "nbformat_minor": 0
}
